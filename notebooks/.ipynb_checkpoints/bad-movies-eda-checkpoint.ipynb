{
 "cells": [
  {
   "cell_type": "markdown",
   "metadata": {},
   "source": [
    "# Import Libraries"
   ]
  },
  {
   "cell_type": "code",
   "execution_count": 14,
   "metadata": {},
   "outputs": [],
   "source": [
    "import pandas as pd\n",
    "from numpy import random\n",
    "import matplotlib.pyplot as plt\n",
    "import seaborn as sns\n",
    "from collections import Counter\n",
    "\n",
    "# NLP\n",
    "from nltk.tokenize import word_tokenize\n",
    "from nltk.sentiment.vader import SentimentIntensityAnalyzer\n",
    "from nltk.corpus import stopwords\n",
    "%config Completer.use_jedi = False\n",
    "\n",
    "from itertools import chain\n",
    "\n",
    "plt.style.use('seaborn-deep')"
   ]
  },
  {
   "cell_type": "code",
   "execution_count": 2,
   "metadata": {},
   "outputs": [],
   "source": [
    "# load bad movies\n",
    "df_bad = pd.read_pickle('../data/processed/trash_df.pkl')\n",
    "\n",
    "# load rest of movies\n",
    "df_rest = pd.read_csv('../data/raw/wiki_movie_plots_deduped.csv')"
   ]
  },
  {
   "cell_type": "markdown",
   "metadata": {},
   "source": [
    "# Utility Functions"
   ]
  },
  {
   "cell_type": "code",
   "execution_count": 14,
   "metadata": {},
   "outputs": [],
   "source": [
    "def split_rows(df, column):\n",
    "    return df[column].str.split('/').explode().str.strip()"
   ]
  },
  {
   "cell_type": "code",
   "execution_count": 22,
   "metadata": {},
   "outputs": [],
   "source": [
    "def plot_bar(df, column, limit=None):\n",
    "    \n",
    "    if limit is not None:\n",
    "        if isinstance(df[column][0], str):\n",
    "            return split_rows(df, column).value_counts().head(limit).plot(kind='barh', figsize=(20,10), color='green')\n",
    "        else:\n",
    "            return df[column].explode().value_counts().plot(kind='barh', figsize=(20,10), color='green')\n",
    "    else:\n",
    "        return df[column].explode().value_counts().plot(kind='barh', figsize=(20,10), color='green')"
   ]
  },
  {
   "cell_type": "code",
   "execution_count": 125,
   "metadata": {},
   "outputs": [],
   "source": [
    "merged = list(chain.from_iterable(plots))"
   ]
  },
  {
   "cell_type": "markdown",
   "metadata": {},
   "source": [
    "# Exploring the Features"
   ]
  },
  {
   "cell_type": "code",
   "execution_count": 16,
   "metadata": {},
   "outputs": [
    {
     "data": {
      "text/html": [
       "<div>\n",
       "<style scoped>\n",
       "    .dataframe tbody tr th:only-of-type {\n",
       "        vertical-align: middle;\n",
       "    }\n",
       "\n",
       "    .dataframe tbody tr th {\n",
       "        vertical-align: top;\n",
       "    }\n",
       "\n",
       "    .dataframe thead th {\n",
       "        text-align: right;\n",
       "    }\n",
       "</style>\n",
       "<table border=\"1\" class=\"dataframe\">\n",
       "  <thead>\n",
       "    <tr style=\"text-align: right;\">\n",
       "      <th></th>\n",
       "      <th>title</th>\n",
       "      <th>kind</th>\n",
       "      <th>year</th>\n",
       "      <th>cover url</th>\n",
       "      <th>original title</th>\n",
       "      <th>cast</th>\n",
       "      <th>genres</th>\n",
       "      <th>runtimes</th>\n",
       "      <th>countries</th>\n",
       "      <th>country codes</th>\n",
       "      <th>...</th>\n",
       "      <th>bottom 100 rank</th>\n",
       "      <th>animation department</th>\n",
       "      <th>season</th>\n",
       "      <th>episode</th>\n",
       "      <th>episode of</th>\n",
       "      <th>series year</th>\n",
       "      <th>number of episodes</th>\n",
       "      <th>previous episode</th>\n",
       "      <th>next episode</th>\n",
       "      <th>imdbIndex</th>\n",
       "    </tr>\n",
       "  </thead>\n",
       "  <tbody>\n",
       "    <tr>\n",
       "      <th>0</th>\n",
       "      <td>Maximum Overdrive</td>\n",
       "      <td>movie</td>\n",
       "      <td>1986.0</td>\n",
       "      <td>https://m.media-amazon.com/images/M/MV5BYzUwOW...</td>\n",
       "      <td>Maximum Overdrive (1986)</td>\n",
       "      <td>Emilio Estevez as Bill Robinson / Pat Hingle a...</td>\n",
       "      <td>[Action, Comedy, Horror, Sci-Fi]</td>\n",
       "      <td>[98]</td>\n",
       "      <td>[United States]</td>\n",
       "      <td>[us]</td>\n",
       "      <td>...</td>\n",
       "      <td>NaN</td>\n",
       "      <td>NaN</td>\n",
       "      <td>NaN</td>\n",
       "      <td>NaN</td>\n",
       "      <td>NaN</td>\n",
       "      <td>NaN</td>\n",
       "      <td>NaN</td>\n",
       "      <td>NaN</td>\n",
       "      <td>NaN</td>\n",
       "      <td>NaN</td>\n",
       "    </tr>\n",
       "    <tr>\n",
       "      <th>1</th>\n",
       "      <td>Over the Top</td>\n",
       "      <td>movie</td>\n",
       "      <td>1987.0</td>\n",
       "      <td>https://m.media-amazon.com/images/M/MV5BNzY0MD...</td>\n",
       "      <td>Over the Top (1987)</td>\n",
       "      <td>Sylvester Stallone as Lincoln Hawk / Robert Lo...</td>\n",
       "      <td>[Action, Drama, Sport]</td>\n",
       "      <td>[93]</td>\n",
       "      <td>[United States]</td>\n",
       "      <td>[us]</td>\n",
       "      <td>...</td>\n",
       "      <td>NaN</td>\n",
       "      <td>NaN</td>\n",
       "      <td>NaN</td>\n",
       "      <td>NaN</td>\n",
       "      <td>NaN</td>\n",
       "      <td>NaN</td>\n",
       "      <td>NaN</td>\n",
       "      <td>NaN</td>\n",
       "      <td>NaN</td>\n",
       "      <td>NaN</td>\n",
       "    </tr>\n",
       "    <tr>\n",
       "      <th>2</th>\n",
       "      <td>Suburban Commando</td>\n",
       "      <td>movie</td>\n",
       "      <td>1991.0</td>\n",
       "      <td>https://m.media-amazon.com/images/M/MV5BY2MwNT...</td>\n",
       "      <td>Suburban Commando (1991)</td>\n",
       "      <td>Hulk Hogan as Shep Ramsey / Christopher Lloyd ...</td>\n",
       "      <td>[Action, Comedy, Sci-Fi]</td>\n",
       "      <td>[90]</td>\n",
       "      <td>[United States]</td>\n",
       "      <td>[us]</td>\n",
       "      <td>...</td>\n",
       "      <td>NaN</td>\n",
       "      <td>NaN</td>\n",
       "      <td>NaN</td>\n",
       "      <td>NaN</td>\n",
       "      <td>NaN</td>\n",
       "      <td>NaN</td>\n",
       "      <td>NaN</td>\n",
       "      <td>NaN</td>\n",
       "      <td>NaN</td>\n",
       "      <td>NaN</td>\n",
       "    </tr>\n",
       "    <tr>\n",
       "      <th>3</th>\n",
       "      <td>No Holds Barred</td>\n",
       "      <td>movie</td>\n",
       "      <td>1989.0</td>\n",
       "      <td>https://m.media-amazon.com/images/M/MV5BNDBhYm...</td>\n",
       "      <td>No Holds Barred (1989)</td>\n",
       "      <td>Hulk Hogan as Rip / Joan Severance as Samantha...</td>\n",
       "      <td>[Action, Sport]</td>\n",
       "      <td>[93]</td>\n",
       "      <td>[United States]</td>\n",
       "      <td>[us]</td>\n",
       "      <td>...</td>\n",
       "      <td>NaN</td>\n",
       "      <td>NaN</td>\n",
       "      <td>NaN</td>\n",
       "      <td>NaN</td>\n",
       "      <td>NaN</td>\n",
       "      <td>NaN</td>\n",
       "      <td>NaN</td>\n",
       "      <td>NaN</td>\n",
       "      <td>NaN</td>\n",
       "      <td>NaN</td>\n",
       "    </tr>\n",
       "    <tr>\n",
       "      <th>4</th>\n",
       "      <td>Dark Angel</td>\n",
       "      <td>tv series</td>\n",
       "      <td>2000.0</td>\n",
       "      <td>https://m.media-amazon.com/images/M/MV5BNThlYz...</td>\n",
       "      <td>Dark Angel (2000-2002)</td>\n",
       "      <td>Jessica Alba as Max Guevera / ... / Michael We...</td>\n",
       "      <td>[Action, Drama, Mystery, Sci-Fi]</td>\n",
       "      <td>[60]</td>\n",
       "      <td>[United States]</td>\n",
       "      <td>[us]</td>\n",
       "      <td>...</td>\n",
       "      <td>NaN</td>\n",
       "      <td>NaN</td>\n",
       "      <td>NaN</td>\n",
       "      <td>NaN</td>\n",
       "      <td>NaN</td>\n",
       "      <td>NaN</td>\n",
       "      <td>NaN</td>\n",
       "      <td>NaN</td>\n",
       "      <td>NaN</td>\n",
       "      <td>NaN</td>\n",
       "    </tr>\n",
       "  </tbody>\n",
       "</table>\n",
       "<p>5 rows × 79 columns</p>\n",
       "</div>"
      ],
      "text/plain": [
       "               title       kind    year  \\\n",
       "0  Maximum Overdrive      movie  1986.0   \n",
       "1       Over the Top      movie  1987.0   \n",
       "2  Suburban Commando      movie  1991.0   \n",
       "3    No Holds Barred      movie  1989.0   \n",
       "4         Dark Angel  tv series  2000.0   \n",
       "\n",
       "                                           cover url  \\\n",
       "0  https://m.media-amazon.com/images/M/MV5BYzUwOW...   \n",
       "1  https://m.media-amazon.com/images/M/MV5BNzY0MD...   \n",
       "2  https://m.media-amazon.com/images/M/MV5BY2MwNT...   \n",
       "3  https://m.media-amazon.com/images/M/MV5BNDBhYm...   \n",
       "4  https://m.media-amazon.com/images/M/MV5BNThlYz...   \n",
       "\n",
       "             original title  \\\n",
       "0  Maximum Overdrive (1986)   \n",
       "1       Over the Top (1987)   \n",
       "2  Suburban Commando (1991)   \n",
       "3    No Holds Barred (1989)   \n",
       "4    Dark Angel (2000-2002)   \n",
       "\n",
       "                                                cast  \\\n",
       "0  Emilio Estevez as Bill Robinson / Pat Hingle a...   \n",
       "1  Sylvester Stallone as Lincoln Hawk / Robert Lo...   \n",
       "2  Hulk Hogan as Shep Ramsey / Christopher Lloyd ...   \n",
       "3  Hulk Hogan as Rip / Joan Severance as Samantha...   \n",
       "4  Jessica Alba as Max Guevera / ... / Michael We...   \n",
       "\n",
       "                             genres runtimes        countries country codes  \\\n",
       "0  [Action, Comedy, Horror, Sci-Fi]     [98]  [United States]          [us]   \n",
       "1            [Action, Drama, Sport]     [93]  [United States]          [us]   \n",
       "2          [Action, Comedy, Sci-Fi]     [90]  [United States]          [us]   \n",
       "3                   [Action, Sport]     [93]  [United States]          [us]   \n",
       "4  [Action, Drama, Mystery, Sci-Fi]     [60]  [United States]          [us]   \n",
       "\n",
       "   ... bottom 100 rank animation department season episode episode of  \\\n",
       "0  ...             NaN                  NaN    NaN     NaN        NaN   \n",
       "1  ...             NaN                  NaN    NaN     NaN        NaN   \n",
       "2  ...             NaN                  NaN    NaN     NaN        NaN   \n",
       "3  ...             NaN                  NaN    NaN     NaN        NaN   \n",
       "4  ...             NaN                  NaN    NaN     NaN        NaN   \n",
       "\n",
       "  series year number of episodes  previous episode  next episode imdbIndex  \n",
       "0         NaN                NaN               NaN           NaN       NaN  \n",
       "1         NaN                NaN               NaN           NaN       NaN  \n",
       "2         NaN                NaN               NaN           NaN       NaN  \n",
       "3         NaN                NaN               NaN           NaN       NaN  \n",
       "4         NaN                NaN               NaN           NaN       NaN  \n",
       "\n",
       "[5 rows x 79 columns]"
      ]
     },
     "execution_count": 16,
     "metadata": {},
     "output_type": "execute_result"
    }
   ],
   "source": [
    "# inspect our dataframe\n",
    "df.head()"
   ]
  },
  {
   "cell_type": "code",
   "execution_count": 17,
   "metadata": {},
   "outputs": [
    {
     "name": "stdout",
     "output_type": "stream",
     "text": [
      "<class 'pandas.core.frame.DataFrame'>\n",
      "RangeIndex: 178 entries, 0 to 177\n",
      "Data columns (total 79 columns):\n",
      " #   Column                     Non-Null Count  Dtype  \n",
      "---  ------                     --------------  -----  \n",
      " 0   title                      178 non-null    object \n",
      " 1   kind                       178 non-null    object \n",
      " 2   year                       177 non-null    float64\n",
      " 3   cover url                  178 non-null    object \n",
      " 4   original title             178 non-null    object \n",
      " 5   cast                       177 non-null    object \n",
      " 6   genres                     178 non-null    object \n",
      " 7   runtimes                   170 non-null    object \n",
      " 8   countries                  170 non-null    object \n",
      " 9   country codes              170 non-null    object \n",
      " 10  language codes             169 non-null    object \n",
      " 11  color info                 169 non-null    object \n",
      " 12  aspect ratio               141 non-null    object \n",
      " 13  sound mix                  136 non-null    object \n",
      " 14  box office                 94 non-null     object \n",
      " 15  certificates               160 non-null    object \n",
      " 16  original air date          145 non-null    object \n",
      " 17  rating                     165 non-null    float64\n",
      " 18  votes                      165 non-null    float64\n",
      " 19  imdbID                     178 non-null    object \n",
      " 20  plot outline               137 non-null    object \n",
      " 21  languages                  169 non-null    object \n",
      " 22  directors                  163 non-null    object \n",
      " 23  writers                    165 non-null    object \n",
      " 24  producers                  165 non-null    object \n",
      " 25  composers                  156 non-null    object \n",
      " 26  cinematographers           158 non-null    object \n",
      " 27  editors                    162 non-null    object \n",
      " 28  editorial department       134 non-null    object \n",
      " 29  casting directors          106 non-null    object \n",
      " 30  production designers       121 non-null    object \n",
      " 31  costume designers          117 non-null    object \n",
      " 32  make up department         153 non-null    object \n",
      " 33  production managers        132 non-null    object \n",
      " 34  assistant directors        144 non-null    object \n",
      " 35  art department             142 non-null    object \n",
      " 36  sound department           154 non-null    object \n",
      " 37  special effects            127 non-null    object \n",
      " 38  visual effects             93 non-null     object \n",
      " 39  stunts                     125 non-null    object \n",
      " 40  camera department          156 non-null    object \n",
      " 41  casting department         92 non-null     object \n",
      " 42  costume departmen          123 non-null    object \n",
      " 43  music department           122 non-null    object \n",
      " 44  script department          129 non-null    object \n",
      " 45  miscellaneous              152 non-null    object \n",
      " 46  thanks                     67 non-null     object \n",
      " 47  akas                       168 non-null    object \n",
      " 48  writer                     172 non-null    object \n",
      " 49  director                   163 non-null    object \n",
      " 50  production companies       167 non-null    object \n",
      " 51  distributors               164 non-null    object \n",
      " 52  keywords                   169 non-null    object \n",
      " 53  metascore                  47 non-null     object \n",
      " 54  metacritic url             47 non-null     object \n",
      " 55  quotes                     139 non-null    object \n",
      " 56  plot                       168 non-null    object \n",
      " 57  synopsis                   59 non-null     object \n",
      " 58  art directors              99 non-null     object \n",
      " 59  set decorators             82 non-null     object \n",
      " 60  location management        111 non-null    object \n",
      " 61  transportation department  98 non-null     object \n",
      " 62  other companies            131 non-null    object \n",
      " 63  special effects companies  58 non-null     object \n",
      " 64  data                       131 non-null    object \n",
      " 65  creator                    5 non-null      object \n",
      " 66  number of seasons          7 non-null      float64\n",
      " 67  series years               7 non-null      object \n",
      " 68  seasons                    7 non-null      object \n",
      " 69  bottom 100 rank            9 non-null      float64\n",
      " 70  animation department       12 non-null     object \n",
      " 71  season                     9 non-null      object \n",
      " 72  episode                    9 non-null      object \n",
      " 73  episode of                 9 non-null      object \n",
      " 74  series year                9 non-null      float64\n",
      " 75  number of episodes         9 non-null      float64\n",
      " 76  previous episode           9 non-null      object \n",
      " 77  next episode               9 non-null      object \n",
      " 78  imdbIndex                  5 non-null      object \n",
      "dtypes: float64(7), object(72)\n",
      "memory usage: 110.0+ KB\n"
     ]
    }
   ],
   "source": [
    "df.info()"
   ]
  },
  {
   "cell_type": "code",
   "execution_count": 18,
   "metadata": {},
   "outputs": [],
   "source": [
    "df.set_index('title',inplace=True)"
   ]
  },
  {
   "cell_type": "code",
   "execution_count": 19,
   "metadata": {},
   "outputs": [
    {
     "data": {
      "text/plain": [
       "True     131\n",
       "False     47\n",
       "Name: metascore, dtype: int64"
      ]
     },
     "execution_count": 19,
     "metadata": {},
     "output_type": "execute_result"
    }
   ],
   "source": [
    "df.metascore.isnull().value_counts()"
   ]
  },
  {
   "cell_type": "markdown",
   "metadata": {},
   "source": [
    "# Visualisations"
   ]
  },
  {
   "cell_type": "markdown",
   "metadata": {},
   "source": [
    "## What Are The Top Genres?"
   ]
  },
  {
   "cell_type": "code",
   "execution_count": 146,
   "metadata": {},
   "outputs": [
    {
     "data": {
      "text/plain": [
       "Thriller       0.158228\n",
       "Action         0.158228\n",
       "Comedy         0.139241\n",
       "Horror         0.107595\n",
       "Drama          0.099156\n",
       "Sci-Fi         0.086498\n",
       "Crime          0.063291\n",
       "Adventure      0.040084\n",
       "Fantasy        0.037975\n",
       "Sport          0.023207\n",
       "Romance        0.021097\n",
       "Mystery        0.016878\n",
       "Family         0.008439\n",
       "Music          0.008439\n",
       "Documentary    0.004219\n",
       "Short          0.004219\n",
       "Western        0.004219\n",
       "Talk-Show      0.004219\n",
       "History        0.004219\n",
       "Musical        0.002110\n",
       "Biography      0.002110\n",
       "Film-Noir      0.002110\n",
       "War            0.002110\n",
       "News           0.002110\n",
       "Name: genres, dtype: float64"
      ]
     },
     "execution_count": 146,
     "metadata": {},
     "output_type": "execute_result"
    }
   ],
   "source": [
    "df.genres.explode().value_counts(normalize=True)"
   ]
  },
  {
   "cell_type": "code",
   "execution_count": 23,
   "metadata": {},
   "outputs": [
    {
     "data": {
      "image/png": "[encoded data removed]",
      "text/plain": [
       "<Figure size 1440x720 with 1 Axes>"
      ]
     },
     "metadata": {
      "needs_background": "light"
     },
     "output_type": "display_data"
    }
   ],
   "source": [
    "# genre bar plot\n",
    "plot_bar(df, 'genres');"
   ]
  },
  {
   "cell_type": "markdown",
   "metadata": {},
   "source": [
    "Thriller, Action and Comedy take up just under **half** of all the movies in the collection."
   ]
  },
  {
   "cell_type": "code",
   "execution_count": 24,
   "metadata": {},
   "outputs": [
    {
     "data": {
      "image/png": "[encoded data removed]",
      "text/plain": [
       "<Figure size 1440x720 with 1 Axes>"
      ]
     },
     "metadata": {
      "needs_background": "light"
     },
     "output_type": "display_data"
    }
   ],
   "source": [
    "plot_bar(df, 'languages');"
   ]
  },
  {
   "cell_type": "markdown",
   "metadata": {},
   "source": [
    "## Which Country Was Most Popular?"
   ]
  },
  {
   "cell_type": "code",
   "execution_count": 25,
   "metadata": {},
   "outputs": [
    {
     "data": {
      "image/png": "[encoded data removed]",
      "text/plain": [
       "<Figure size 1440x720 with 1 Axes>"
      ]
     },
     "metadata": {
      "needs_background": "light"
     },
     "output_type": "display_data"
    }
   ],
   "source": [
    "plot_bar(df, 'countries');"
   ]
  },
  {
   "cell_type": "markdown",
   "metadata": {},
   "source": [
    "`Unites States` takes the cake with a whopping $140$ plus. This isn't a suprise with America being home to Hollywood. "
   ]
  },
  {
   "cell_type": "markdown",
   "metadata": {},
   "source": [
    "## What was the Average Rating?"
   ]
  },
  {
   "cell_type": "code",
   "execution_count": 26,
   "metadata": {},
   "outputs": [
    {
     "data": {
      "text/plain": [
       "4.929696969696971"
      ]
     },
     "execution_count": 26,
     "metadata": {},
     "output_type": "execute_result"
    }
   ],
   "source": [
    "df.rating.mean()"
   ]
  },
  {
   "cell_type": "markdown",
   "metadata": {},
   "source": [
    "The average rating is below $5$. Ouch. This also doesn't come as a suprise as this list is comprised of hand-picked 'bad' movies. However it is interesting that it is only just below 'average' on a scale of $10$. "
   ]
  },
  {
   "cell_type": "markdown",
   "metadata": {},
   "source": [
    "## What About The Sound Mix? "
   ]
  },
  {
   "cell_type": "code",
   "execution_count": 27,
   "metadata": {},
   "outputs": [
    {
     "data": {
      "image/png": "[encoded data removed]",
      "text/plain": [
       "<Figure size 1440x720 with 1 Axes>"
      ]
     },
     "metadata": {
      "needs_background": "light"
     },
     "output_type": "display_data"
    }
   ],
   "source": [
    "plot_bar(df, 'sound mix');"
   ]
  },
  {
   "cell_type": "markdown",
   "metadata": {},
   "source": [
    "Dolby Digital and Mono dominate the sound mix."
   ]
  },
  {
   "cell_type": "code",
   "execution_count": 28,
   "metadata": {},
   "outputs": [
    {
     "data": {
      "text/plain": [
       "                        152\n",
       "Lloyd Kaufman             8\n",
       "Joe Ritter                4\n",
       "Andy Sidaris              4\n",
       "Stuart Strutin            3\n",
       "Charles Band              3\n",
       "Stephen King              3\n",
       "Gay Partington Terry      3\n",
       "Lorraine Lévy             3\n",
       "Thunder Levin             3\n",
       "Name: writers, dtype: int64"
      ]
     },
     "execution_count": 28,
     "metadata": {},
     "output_type": "execute_result"
    }
   ],
   "source": [
    "df.writers.str.split('/').explode().str.strip().value_counts().head(10)"
   ]
  },
  {
   "cell_type": "code",
   "execution_count": 29,
   "metadata": {},
   "outputs": [
    {
     "data": {
      "text/plain": [
       "Howard Wexler                        3\n",
       "Mark Irwin                           3\n",
       "Glen MacPherson                      2\n",
       "Levie Isaacks                        2\n",
       "Adam Sliwinski                       2\n",
       "David Worth                          2\n",
       "Jan de Bont                          2\n",
       "João Fernandes                       2\n",
       "Lloyd Kaufman / James A. Lebovitz    2\n",
       "Robert Ballo                         2\n",
       "Name: cinematographers, dtype: int64"
      ]
     },
     "execution_count": 29,
     "metadata": {},
     "output_type": "execute_result"
    }
   ],
   "source": [
    "df.cinematographers.value_counts().head(10)"
   ]
  },
  {
   "cell_type": "code",
   "execution_count": 30,
   "metadata": {},
   "outputs": [
    {
     "data": {
      "text/plain": [
       "Marion Tumen                       2\n",
       "Mark Torgl                         2\n",
       "April McQuarrie                    2\n",
       "Sarah Schultz                      2\n",
       "Jesse Long                         2\n",
       "Diane Collins                      2\n",
       "Mark S. Thomas                     2\n",
       "June Samson                        1\n",
       "Marion Cronin / Kathryn Weygand    1\n",
       "Kevin Hindley                      1\n",
       "Name: script department, dtype: int64"
      ]
     },
     "execution_count": 30,
     "metadata": {},
     "output_type": "execute_result"
    }
   ],
   "source": [
    "df['script department'].value_counts().head(10)"
   ]
  },
  {
   "cell_type": "code",
   "execution_count": 31,
   "metadata": {},
   "outputs": [],
   "source": [
    "top_10 = list(df['script department'].value_counts().head(10).index)"
   ]
  },
  {
   "cell_type": "code",
   "execution_count": 32,
   "metadata": {},
   "outputs": [
    {
     "data": {
      "text/html": [
       "<div>\n",
       "<style scoped>\n",
       "    .dataframe tbody tr th:only-of-type {\n",
       "        vertical-align: middle;\n",
       "    }\n",
       "\n",
       "    .dataframe tbody tr th {\n",
       "        vertical-align: top;\n",
       "    }\n",
       "\n",
       "    .dataframe thead th {\n",
       "        text-align: right;\n",
       "    }\n",
       "</style>\n",
       "<table border=\"1\" class=\"dataframe\">\n",
       "  <thead>\n",
       "    <tr style=\"text-align: right;\">\n",
       "      <th></th>\n",
       "      <th>kind</th>\n",
       "      <th>year</th>\n",
       "      <th>cover url</th>\n",
       "      <th>original title</th>\n",
       "      <th>cast</th>\n",
       "      <th>genres</th>\n",
       "      <th>runtimes</th>\n",
       "      <th>countries</th>\n",
       "      <th>country codes</th>\n",
       "      <th>language codes</th>\n",
       "      <th>...</th>\n",
       "      <th>bottom 100 rank</th>\n",
       "      <th>animation department</th>\n",
       "      <th>season</th>\n",
       "      <th>episode</th>\n",
       "      <th>episode of</th>\n",
       "      <th>series year</th>\n",
       "      <th>number of episodes</th>\n",
       "      <th>previous episode</th>\n",
       "      <th>next episode</th>\n",
       "      <th>imdbIndex</th>\n",
       "    </tr>\n",
       "    <tr>\n",
       "      <th>title</th>\n",
       "      <th></th>\n",
       "      <th></th>\n",
       "      <th></th>\n",
       "      <th></th>\n",
       "      <th></th>\n",
       "      <th></th>\n",
       "      <th></th>\n",
       "      <th></th>\n",
       "      <th></th>\n",
       "      <th></th>\n",
       "      <th></th>\n",
       "      <th></th>\n",
       "      <th></th>\n",
       "      <th></th>\n",
       "      <th></th>\n",
       "      <th></th>\n",
       "      <th></th>\n",
       "      <th></th>\n",
       "      <th></th>\n",
       "      <th></th>\n",
       "      <th></th>\n",
       "    </tr>\n",
       "  </thead>\n",
       "  <tbody>\n",
       "    <tr>\n",
       "      <th>The Gingerdead Man</th>\n",
       "      <td>movie</td>\n",
       "      <td>2005.0</td>\n",
       "      <td>https://m.media-amazon.com/images/M/MV5BMTgyNT...</td>\n",
       "      <td>The Gingerdead Man (2005)</td>\n",
       "      <td>Gary Busey as Millard Findlemeyer / Robin Sydn...</td>\n",
       "      <td>[Comedy, Fantasy, Horror]</td>\n",
       "      <td>[70]</td>\n",
       "      <td>[United States]</td>\n",
       "      <td>[us]</td>\n",
       "      <td>[en]</td>\n",
       "      <td>...</td>\n",
       "      <td>NaN</td>\n",
       "      <td>NaN</td>\n",
       "      <td>NaN</td>\n",
       "      <td>NaN</td>\n",
       "      <td>NaN</td>\n",
       "      <td>NaN</td>\n",
       "      <td>NaN</td>\n",
       "      <td>NaN</td>\n",
       "      <td>NaN</td>\n",
       "      <td>NaN</td>\n",
       "    </tr>\n",
       "    <tr>\n",
       "      <th>Sharknado</th>\n",
       "      <td>tv movie</td>\n",
       "      <td>2013.0</td>\n",
       "      <td>https://m.media-amazon.com/images/M/MV5BODcwZW...</td>\n",
       "      <td>Sharknado (2013)</td>\n",
       "      <td>Ian Ziering as Fin Shepard / Tara Reid as Apri...</td>\n",
       "      <td>[Action, Adventure, Comedy, Horror, Sci-Fi, Th...</td>\n",
       "      <td>[86]</td>\n",
       "      <td>[United States]</td>\n",
       "      <td>[us]</td>\n",
       "      <td>[en]</td>\n",
       "      <td>...</td>\n",
       "      <td>NaN</td>\n",
       "      <td>NaN</td>\n",
       "      <td>NaN</td>\n",
       "      <td>NaN</td>\n",
       "      <td>NaN</td>\n",
       "      <td>NaN</td>\n",
       "      <td>NaN</td>\n",
       "      <td>NaN</td>\n",
       "      <td>NaN</td>\n",
       "      <td>NaN</td>\n",
       "    </tr>\n",
       "    <tr>\n",
       "      <th>Tango &amp; Cash</th>\n",
       "      <td>movie</td>\n",
       "      <td>1989.0</td>\n",
       "      <td>https://m.media-amazon.com/images/M/MV5BZjQ4YT...</td>\n",
       "      <td>Tango &amp; Cash (1989)</td>\n",
       "      <td>Sylvester Stallone as Lt. Raymond Tango / Kurt...</td>\n",
       "      <td>[Action, Comedy, Crime, Thriller]</td>\n",
       "      <td>[104]</td>\n",
       "      <td>[United States]</td>\n",
       "      <td>[us]</td>\n",
       "      <td>[en]</td>\n",
       "      <td>...</td>\n",
       "      <td>NaN</td>\n",
       "      <td>NaN</td>\n",
       "      <td>NaN</td>\n",
       "      <td>NaN</td>\n",
       "      <td>NaN</td>\n",
       "      <td>NaN</td>\n",
       "      <td>NaN</td>\n",
       "      <td>NaN</td>\n",
       "      <td>NaN</td>\n",
       "      <td>NaN</td>\n",
       "    </tr>\n",
       "    <tr>\n",
       "      <th>Zombeavers</th>\n",
       "      <td>movie</td>\n",
       "      <td>2014.0</td>\n",
       "      <td>https://m.media-amazon.com/images/M/MV5BNTMzMz...</td>\n",
       "      <td>Zombeavers (2014)</td>\n",
       "      <td>Rachel Melvin as Mary / Cortney Palm as Zoe / ...</td>\n",
       "      <td>[Comedy, Horror]</td>\n",
       "      <td>[77]</td>\n",
       "      <td>[United States]</td>\n",
       "      <td>[us]</td>\n",
       "      <td>[en]</td>\n",
       "      <td>...</td>\n",
       "      <td>NaN</td>\n",
       "      <td>NaN</td>\n",
       "      <td>NaN</td>\n",
       "      <td>NaN</td>\n",
       "      <td>NaN</td>\n",
       "      <td>NaN</td>\n",
       "      <td>NaN</td>\n",
       "      <td>NaN</td>\n",
       "      <td>NaN</td>\n",
       "      <td>NaN</td>\n",
       "    </tr>\n",
       "    <tr>\n",
       "      <th>Hell Comes to Frogtown</th>\n",
       "      <td>movie</td>\n",
       "      <td>1988.0</td>\n",
       "      <td>https://m.media-amazon.com/images/M/MV5BZWZjYT...</td>\n",
       "      <td>Hell Comes to Frogtown (1988)</td>\n",
       "      <td>Julius LeFlore as Squidlips / RCB as The Poor ...</td>\n",
       "      <td>[Action, Comedy, Sci-Fi]</td>\n",
       "      <td>[86]</td>\n",
       "      <td>[United States]</td>\n",
       "      <td>[us]</td>\n",
       "      <td>[en]</td>\n",
       "      <td>...</td>\n",
       "      <td>NaN</td>\n",
       "      <td>NaN</td>\n",
       "      <td>NaN</td>\n",
       "      <td>NaN</td>\n",
       "      <td>NaN</td>\n",
       "      <td>NaN</td>\n",
       "      <td>NaN</td>\n",
       "      <td>NaN</td>\n",
       "      <td>NaN</td>\n",
       "      <td>NaN</td>\n",
       "    </tr>\n",
       "    <tr>\n",
       "      <th>Cool as Ice</th>\n",
       "      <td>movie</td>\n",
       "      <td>1991.0</td>\n",
       "      <td>https://m.media-amazon.com/images/M/MV5BNzU4Mz...</td>\n",
       "      <td>Cool as Ice (1991)</td>\n",
       "      <td>Naomi Campbell as Singer at First Club / Vanil...</td>\n",
       "      <td>[Comedy, Drama, Music, Romance]</td>\n",
       "      <td>[91]</td>\n",
       "      <td>[United States]</td>\n",
       "      <td>[us]</td>\n",
       "      <td>[en]</td>\n",
       "      <td>...</td>\n",
       "      <td>NaN</td>\n",
       "      <td>NaN</td>\n",
       "      <td>NaN</td>\n",
       "      <td>NaN</td>\n",
       "      <td>NaN</td>\n",
       "      <td>NaN</td>\n",
       "      <td>NaN</td>\n",
       "      <td>NaN</td>\n",
       "      <td>NaN</td>\n",
       "      <td>NaN</td>\n",
       "    </tr>\n",
       "    <tr>\n",
       "      <th>The Toxic Avenger</th>\n",
       "      <td>movie</td>\n",
       "      <td>1984.0</td>\n",
       "      <td>https://m.media-amazon.com/images/M/MV5BNzViNm...</td>\n",
       "      <td>The Toxic Avenger (1984)</td>\n",
       "      <td>Andree Maranda as Sara / Mitch Cohen as The To...</td>\n",
       "      <td>[Action, Comedy, Horror, Sci-Fi]</td>\n",
       "      <td>[82]</td>\n",
       "      <td>[United States]</td>\n",
       "      <td>[us]</td>\n",
       "      <td>[en]</td>\n",
       "      <td>...</td>\n",
       "      <td>NaN</td>\n",
       "      <td>NaN</td>\n",
       "      <td>NaN</td>\n",
       "      <td>NaN</td>\n",
       "      <td>NaN</td>\n",
       "      <td>NaN</td>\n",
       "      <td>NaN</td>\n",
       "      <td>NaN</td>\n",
       "      <td>NaN</td>\n",
       "      <td>NaN</td>\n",
       "    </tr>\n",
       "    <tr>\n",
       "      <th>The Toxic Avenger</th>\n",
       "      <td>movie</td>\n",
       "      <td>1984.0</td>\n",
       "      <td>https://m.media-amazon.com/images/M/MV5BNzViNm...</td>\n",
       "      <td>The Toxic Avenger (1984)</td>\n",
       "      <td>Andree Maranda as Sara / Mitch Cohen as The To...</td>\n",
       "      <td>[Action, Comedy, Horror, Sci-Fi]</td>\n",
       "      <td>[82]</td>\n",
       "      <td>[United States]</td>\n",
       "      <td>[us]</td>\n",
       "      <td>[en]</td>\n",
       "      <td>...</td>\n",
       "      <td>NaN</td>\n",
       "      <td>NaN</td>\n",
       "      <td>NaN</td>\n",
       "      <td>NaN</td>\n",
       "      <td>NaN</td>\n",
       "      <td>NaN</td>\n",
       "      <td>NaN</td>\n",
       "      <td>NaN</td>\n",
       "      <td>NaN</td>\n",
       "      <td>NaN</td>\n",
       "    </tr>\n",
       "    <tr>\n",
       "      <th>Society</th>\n",
       "      <td>movie</td>\n",
       "      <td>1989.0</td>\n",
       "      <td>https://m.media-amazon.com/images/M/MV5BYzE3ND...</td>\n",
       "      <td>Society (1989)</td>\n",
       "      <td>Billy Warlock as Bill Whitney / Concetta D'Agn...</td>\n",
       "      <td>[Comedy, Horror]</td>\n",
       "      <td>[99]</td>\n",
       "      <td>[Japan, United States]</td>\n",
       "      <td>[jp, us]</td>\n",
       "      <td>[en]</td>\n",
       "      <td>...</td>\n",
       "      <td>NaN</td>\n",
       "      <td>NaN</td>\n",
       "      <td>NaN</td>\n",
       "      <td>NaN</td>\n",
       "      <td>NaN</td>\n",
       "      <td>NaN</td>\n",
       "      <td>NaN</td>\n",
       "      <td>NaN</td>\n",
       "      <td>NaN</td>\n",
       "      <td>NaN</td>\n",
       "    </tr>\n",
       "    <tr>\n",
       "      <th>Drew Peterson: Untouchable</th>\n",
       "      <td>tv movie</td>\n",
       "      <td>2012.0</td>\n",
       "      <td>https://m.media-amazon.com/images/M/MV5BMTg1OD...</td>\n",
       "      <td>Drew Peterson: Untouchable (2012)</td>\n",
       "      <td>Rob Lowe as Drew Peterson / Kaley Cuoco as Sta...</td>\n",
       "      <td>[Drama]</td>\n",
       "      <td>[84]</td>\n",
       "      <td>[United States]</td>\n",
       "      <td>[us]</td>\n",
       "      <td>[en]</td>\n",
       "      <td>...</td>\n",
       "      <td>NaN</td>\n",
       "      <td>NaN</td>\n",
       "      <td>NaN</td>\n",
       "      <td>NaN</td>\n",
       "      <td>NaN</td>\n",
       "      <td>NaN</td>\n",
       "      <td>NaN</td>\n",
       "      <td>NaN</td>\n",
       "      <td>NaN</td>\n",
       "      <td>NaN</td>\n",
       "    </tr>\n",
       "    <tr>\n",
       "      <th>Celtic Pride</th>\n",
       "      <td>movie</td>\n",
       "      <td>1996.0</td>\n",
       "      <td>https://m.media-amazon.com/images/M/MV5BNjg4NT...</td>\n",
       "      <td>Celtic Pride (1996)</td>\n",
       "      <td>Damon Wayans as Lewis Scott / Daniel Stern as ...</td>\n",
       "      <td>[Comedy, Sport]</td>\n",
       "      <td>[91]</td>\n",
       "      <td>[United States]</td>\n",
       "      <td>[us]</td>\n",
       "      <td>[en]</td>\n",
       "      <td>...</td>\n",
       "      <td>NaN</td>\n",
       "      <td>NaN</td>\n",
       "      <td>NaN</td>\n",
       "      <td>NaN</td>\n",
       "      <td>NaN</td>\n",
       "      <td>NaN</td>\n",
       "      <td>NaN</td>\n",
       "      <td>NaN</td>\n",
       "      <td>NaN</td>\n",
       "      <td>NaN</td>\n",
       "    </tr>\n",
       "    <tr>\n",
       "      <th>Stalked by My Doctor</th>\n",
       "      <td>tv movie</td>\n",
       "      <td>2015.0</td>\n",
       "      <td>https://m.media-amazon.com/images/M/MV5BYTA3Mj...</td>\n",
       "      <td>Stalked by My Doctor (2015)</td>\n",
       "      <td>Eric Roberts as Dr. Beck / Brianna Joy Chomer ...</td>\n",
       "      <td>[Thriller]</td>\n",
       "      <td>[88]</td>\n",
       "      <td>[United States]</td>\n",
       "      <td>[us]</td>\n",
       "      <td>[en]</td>\n",
       "      <td>...</td>\n",
       "      <td>NaN</td>\n",
       "      <td>NaN</td>\n",
       "      <td>NaN</td>\n",
       "      <td>NaN</td>\n",
       "      <td>NaN</td>\n",
       "      <td>NaN</td>\n",
       "      <td>NaN</td>\n",
       "      <td>NaN</td>\n",
       "      <td>NaN</td>\n",
       "      <td>NaN</td>\n",
       "    </tr>\n",
       "    <tr>\n",
       "      <th>The Canyons</th>\n",
       "      <td>movie</td>\n",
       "      <td>2013.0</td>\n",
       "      <td>https://m.media-amazon.com/images/M/MV5BMTYzMz...</td>\n",
       "      <td>The Canyons (2013)</td>\n",
       "      <td>Lindsay Lohan as Tara / James Deen as Christia...</td>\n",
       "      <td>[Drama, Thriller]</td>\n",
       "      <td>[99]</td>\n",
       "      <td>[United States]</td>\n",
       "      <td>[us]</td>\n",
       "      <td>[en]</td>\n",
       "      <td>...</td>\n",
       "      <td>NaN</td>\n",
       "      <td>NaN</td>\n",
       "      <td>NaN</td>\n",
       "      <td>NaN</td>\n",
       "      <td>NaN</td>\n",
       "      <td>NaN</td>\n",
       "      <td>NaN</td>\n",
       "      <td>NaN</td>\n",
       "      <td>NaN</td>\n",
       "      <td>NaN</td>\n",
       "    </tr>\n",
       "    <tr>\n",
       "      <th>Jaws: The Revenge</th>\n",
       "      <td>movie</td>\n",
       "      <td>1987.0</td>\n",
       "      <td>https://m.media-amazon.com/images/M/MV5BNGI1MT...</td>\n",
       "      <td>Jaws: The Revenge (1987)</td>\n",
       "      <td>Lorraine Gary as Ellen Brody / Lance Guest as ...</td>\n",
       "      <td>[Adventure, Horror, Thriller]</td>\n",
       "      <td>[89]</td>\n",
       "      <td>[United States]</td>\n",
       "      <td>[us]</td>\n",
       "      <td>[en]</td>\n",
       "      <td>...</td>\n",
       "      <td>31.0</td>\n",
       "      <td>NaN</td>\n",
       "      <td>NaN</td>\n",
       "      <td>NaN</td>\n",
       "      <td>NaN</td>\n",
       "      <td>NaN</td>\n",
       "      <td>NaN</td>\n",
       "      <td>NaN</td>\n",
       "      <td>NaN</td>\n",
       "      <td>NaN</td>\n",
       "    </tr>\n",
       "    <tr>\n",
       "      <th>The Dentist</th>\n",
       "      <td>movie</td>\n",
       "      <td>1996.0</td>\n",
       "      <td>https://m.media-amazon.com/images/M/MV5BMjI1MT...</td>\n",
       "      <td>The Dentist (1996)</td>\n",
       "      <td>Corbin Bernsen as Dr. Alan Feinstone / Linda H...</td>\n",
       "      <td>[Horror]</td>\n",
       "      <td>[92]</td>\n",
       "      <td>[United States]</td>\n",
       "      <td>[us]</td>\n",
       "      <td>[en]</td>\n",
       "      <td>...</td>\n",
       "      <td>NaN</td>\n",
       "      <td>NaN</td>\n",
       "      <td>NaN</td>\n",
       "      <td>NaN</td>\n",
       "      <td>NaN</td>\n",
       "      <td>NaN</td>\n",
       "      <td>NaN</td>\n",
       "      <td>NaN</td>\n",
       "      <td>NaN</td>\n",
       "      <td>NaN</td>\n",
       "    </tr>\n",
       "    <tr>\n",
       "      <th>Stalked by My Doctor: The Return</th>\n",
       "      <td>tv movie</td>\n",
       "      <td>2016.0</td>\n",
       "      <td>https://m.media-amazon.com/images/M/MV5BZDMyNj...</td>\n",
       "      <td>Stalked by My Doctor: The Return (2016)</td>\n",
       "      <td>Eric Roberts as Dr. Beck / Claire Blackwelder ...</td>\n",
       "      <td>[Thriller]</td>\n",
       "      <td>[97]</td>\n",
       "      <td>[United States]</td>\n",
       "      <td>[us]</td>\n",
       "      <td>[en]</td>\n",
       "      <td>...</td>\n",
       "      <td>NaN</td>\n",
       "      <td>NaN</td>\n",
       "      <td>NaN</td>\n",
       "      <td>NaN</td>\n",
       "      <td>NaN</td>\n",
       "      <td>NaN</td>\n",
       "      <td>NaN</td>\n",
       "      <td>NaN</td>\n",
       "      <td>NaN</td>\n",
       "      <td>NaN</td>\n",
       "    </tr>\n",
       "    <tr>\n",
       "      <th>Deadly Friend</th>\n",
       "      <td>movie</td>\n",
       "      <td>1986.0</td>\n",
       "      <td>https://m.media-amazon.com/images/M/MV5BNjQ0M2...</td>\n",
       "      <td>Deadly Friend (1986)</td>\n",
       "      <td>Matthew Labyorteaux as Paul Conway / Kristy Sw...</td>\n",
       "      <td>[Drama, Horror, Sci-Fi, Thriller]</td>\n",
       "      <td>[91]</td>\n",
       "      <td>[United States]</td>\n",
       "      <td>[us]</td>\n",
       "      <td>[en]</td>\n",
       "      <td>...</td>\n",
       "      <td>NaN</td>\n",
       "      <td>NaN</td>\n",
       "      <td>NaN</td>\n",
       "      <td>NaN</td>\n",
       "      <td>NaN</td>\n",
       "      <td>NaN</td>\n",
       "      <td>NaN</td>\n",
       "      <td>NaN</td>\n",
       "      <td>NaN</td>\n",
       "      <td>NaN</td>\n",
       "    </tr>\n",
       "  </tbody>\n",
       "</table>\n",
       "<p>17 rows × 78 columns</p>\n",
       "</div>"
      ],
      "text/plain": [
       "                                      kind    year  \\\n",
       "title                                                \n",
       "The Gingerdead Man                   movie  2005.0   \n",
       "Sharknado                         tv movie  2013.0   \n",
       "Tango & Cash                         movie  1989.0   \n",
       "Zombeavers                           movie  2014.0   \n",
       "Hell Comes to Frogtown               movie  1988.0   \n",
       "Cool as Ice                          movie  1991.0   \n",
       "The Toxic Avenger                    movie  1984.0   \n",
       "The Toxic Avenger                    movie  1984.0   \n",
       "Society                              movie  1989.0   \n",
       "Drew Peterson: Untouchable        tv movie  2012.0   \n",
       "Celtic Pride                         movie  1996.0   \n",
       "Stalked by My Doctor              tv movie  2015.0   \n",
       "The Canyons                          movie  2013.0   \n",
       "Jaws: The Revenge                    movie  1987.0   \n",
       "The Dentist                          movie  1996.0   \n",
       "Stalked by My Doctor: The Return  tv movie  2016.0   \n",
       "Deadly Friend                        movie  1986.0   \n",
       "\n",
       "                                                                          cover url  \\\n",
       "title                                                                                 \n",
       "The Gingerdead Man                https://m.media-amazon.com/images/M/MV5BMTgyNT...   \n",
       "Sharknado                         https://m.media-amazon.com/images/M/MV5BODcwZW...   \n",
       "Tango & Cash                      https://m.media-amazon.com/images/M/MV5BZjQ4YT...   \n",
       "Zombeavers                        https://m.media-amazon.com/images/M/MV5BNTMzMz...   \n",
       "Hell Comes to Frogtown            https://m.media-amazon.com/images/M/MV5BZWZjYT...   \n",
       "Cool as Ice                       https://m.media-amazon.com/images/M/MV5BNzU4Mz...   \n",
       "The Toxic Avenger                 https://m.media-amazon.com/images/M/MV5BNzViNm...   \n",
       "The Toxic Avenger                 https://m.media-amazon.com/images/M/MV5BNzViNm...   \n",
       "Society                           https://m.media-amazon.com/images/M/MV5BYzE3ND...   \n",
       "Drew Peterson: Untouchable        https://m.media-amazon.com/images/M/MV5BMTg1OD...   \n",
       "Celtic Pride                      https://m.media-amazon.com/images/M/MV5BNjg4NT...   \n",
       "Stalked by My Doctor              https://m.media-amazon.com/images/M/MV5BYTA3Mj...   \n",
       "The Canyons                       https://m.media-amazon.com/images/M/MV5BMTYzMz...   \n",
       "Jaws: The Revenge                 https://m.media-amazon.com/images/M/MV5BNGI1MT...   \n",
       "The Dentist                       https://m.media-amazon.com/images/M/MV5BMjI1MT...   \n",
       "Stalked by My Doctor: The Return  https://m.media-amazon.com/images/M/MV5BZDMyNj...   \n",
       "Deadly Friend                     https://m.media-amazon.com/images/M/MV5BNjQ0M2...   \n",
       "\n",
       "                                                           original title  \\\n",
       "title                                                                       \n",
       "The Gingerdead Man                              The Gingerdead Man (2005)   \n",
       "Sharknado                                                Sharknado (2013)   \n",
       "Tango & Cash                                          Tango & Cash (1989)   \n",
       "Zombeavers                                              Zombeavers (2014)   \n",
       "Hell Comes to Frogtown                      Hell Comes to Frogtown (1988)   \n",
       "Cool as Ice                                            Cool as Ice (1991)   \n",
       "The Toxic Avenger                                The Toxic Avenger (1984)   \n",
       "The Toxic Avenger                                The Toxic Avenger (1984)   \n",
       "Society                                                    Society (1989)   \n",
       "Drew Peterson: Untouchable              Drew Peterson: Untouchable (2012)   \n",
       "Celtic Pride                                          Celtic Pride (1996)   \n",
       "Stalked by My Doctor                          Stalked by My Doctor (2015)   \n",
       "The Canyons                                            The Canyons (2013)   \n",
       "Jaws: The Revenge                                Jaws: The Revenge (1987)   \n",
       "The Dentist                                            The Dentist (1996)   \n",
       "Stalked by My Doctor: The Return  Stalked by My Doctor: The Return (2016)   \n",
       "Deadly Friend                                        Deadly Friend (1986)   \n",
       "\n",
       "                                                                               cast  \\\n",
       "title                                                                                 \n",
       "The Gingerdead Man                Gary Busey as Millard Findlemeyer / Robin Sydn...   \n",
       "Sharknado                         Ian Ziering as Fin Shepard / Tara Reid as Apri...   \n",
       "Tango & Cash                      Sylvester Stallone as Lt. Raymond Tango / Kurt...   \n",
       "Zombeavers                        Rachel Melvin as Mary / Cortney Palm as Zoe / ...   \n",
       "Hell Comes to Frogtown            Julius LeFlore as Squidlips / RCB as The Poor ...   \n",
       "Cool as Ice                       Naomi Campbell as Singer at First Club / Vanil...   \n",
       "The Toxic Avenger                 Andree Maranda as Sara / Mitch Cohen as The To...   \n",
       "The Toxic Avenger                 Andree Maranda as Sara / Mitch Cohen as The To...   \n",
       "Society                           Billy Warlock as Bill Whitney / Concetta D'Agn...   \n",
       "Drew Peterson: Untouchable        Rob Lowe as Drew Peterson / Kaley Cuoco as Sta...   \n",
       "Celtic Pride                      Damon Wayans as Lewis Scott / Daniel Stern as ...   \n",
       "Stalked by My Doctor              Eric Roberts as Dr. Beck / Brianna Joy Chomer ...   \n",
       "The Canyons                       Lindsay Lohan as Tara / James Deen as Christia...   \n",
       "Jaws: The Revenge                 Lorraine Gary as Ellen Brody / Lance Guest as ...   \n",
       "The Dentist                       Corbin Bernsen as Dr. Alan Feinstone / Linda H...   \n",
       "Stalked by My Doctor: The Return  Eric Roberts as Dr. Beck / Claire Blackwelder ...   \n",
       "Deadly Friend                     Matthew Labyorteaux as Paul Conway / Kristy Sw...   \n",
       "\n",
       "                                                                             genres  \\\n",
       "title                                                                                 \n",
       "The Gingerdead Man                                        [Comedy, Fantasy, Horror]   \n",
       "Sharknado                         [Action, Adventure, Comedy, Horror, Sci-Fi, Th...   \n",
       "Tango & Cash                                      [Action, Comedy, Crime, Thriller]   \n",
       "Zombeavers                                                         [Comedy, Horror]   \n",
       "Hell Comes to Frogtown                                     [Action, Comedy, Sci-Fi]   \n",
       "Cool as Ice                                         [Comedy, Drama, Music, Romance]   \n",
       "The Toxic Avenger                                  [Action, Comedy, Horror, Sci-Fi]   \n",
       "The Toxic Avenger                                  [Action, Comedy, Horror, Sci-Fi]   \n",
       "Society                                                            [Comedy, Horror]   \n",
       "Drew Peterson: Untouchable                                                  [Drama]   \n",
       "Celtic Pride                                                        [Comedy, Sport]   \n",
       "Stalked by My Doctor                                                     [Thriller]   \n",
       "The Canyons                                                       [Drama, Thriller]   \n",
       "Jaws: The Revenge                                     [Adventure, Horror, Thriller]   \n",
       "The Dentist                                                                [Horror]   \n",
       "Stalked by My Doctor: The Return                                         [Thriller]   \n",
       "Deadly Friend                                     [Drama, Horror, Sci-Fi, Thriller]   \n",
       "\n",
       "                                 runtimes               countries  \\\n",
       "title                                                               \n",
       "The Gingerdead Man                   [70]         [United States]   \n",
       "Sharknado                            [86]         [United States]   \n",
       "Tango & Cash                        [104]         [United States]   \n",
       "Zombeavers                           [77]         [United States]   \n",
       "Hell Comes to Frogtown               [86]         [United States]   \n",
       "Cool as Ice                          [91]         [United States]   \n",
       "The Toxic Avenger                    [82]         [United States]   \n",
       "The Toxic Avenger                    [82]         [United States]   \n",
       "Society                              [99]  [Japan, United States]   \n",
       "Drew Peterson: Untouchable           [84]         [United States]   \n",
       "Celtic Pride                         [91]         [United States]   \n",
       "Stalked by My Doctor                 [88]         [United States]   \n",
       "The Canyons                          [99]         [United States]   \n",
       "Jaws: The Revenge                    [89]         [United States]   \n",
       "The Dentist                          [92]         [United States]   \n",
       "Stalked by My Doctor: The Return     [97]         [United States]   \n",
       "Deadly Friend                        [91]         [United States]   \n",
       "\n",
       "                                 country codes language codes  ...  \\\n",
       "title                                                          ...   \n",
       "The Gingerdead Man                        [us]           [en]  ...   \n",
       "Sharknado                                 [us]           [en]  ...   \n",
       "Tango & Cash                              [us]           [en]  ...   \n",
       "Zombeavers                                [us]           [en]  ...   \n",
       "Hell Comes to Frogtown                    [us]           [en]  ...   \n",
       "Cool as Ice                               [us]           [en]  ...   \n",
       "The Toxic Avenger                         [us]           [en]  ...   \n",
       "The Toxic Avenger                         [us]           [en]  ...   \n",
       "Society                               [jp, us]           [en]  ...   \n",
       "Drew Peterson: Untouchable                [us]           [en]  ...   \n",
       "Celtic Pride                              [us]           [en]  ...   \n",
       "Stalked by My Doctor                      [us]           [en]  ...   \n",
       "The Canyons                               [us]           [en]  ...   \n",
       "Jaws: The Revenge                         [us]           [en]  ...   \n",
       "The Dentist                               [us]           [en]  ...   \n",
       "Stalked by My Doctor: The Return          [us]           [en]  ...   \n",
       "Deadly Friend                             [us]           [en]  ...   \n",
       "\n",
       "                                 bottom 100 rank animation department season  \\\n",
       "title                                                                          \n",
       "The Gingerdead Man                           NaN                  NaN    NaN   \n",
       "Sharknado                                    NaN                  NaN    NaN   \n",
       "Tango & Cash                                 NaN                  NaN    NaN   \n",
       "Zombeavers                                   NaN                  NaN    NaN   \n",
       "Hell Comes to Frogtown                       NaN                  NaN    NaN   \n",
       "Cool as Ice                                  NaN                  NaN    NaN   \n",
       "The Toxic Avenger                            NaN                  NaN    NaN   \n",
       "The Toxic Avenger                            NaN                  NaN    NaN   \n",
       "Society                                      NaN                  NaN    NaN   \n",
       "Drew Peterson: Untouchable                   NaN                  NaN    NaN   \n",
       "Celtic Pride                                 NaN                  NaN    NaN   \n",
       "Stalked by My Doctor                         NaN                  NaN    NaN   \n",
       "The Canyons                                  NaN                  NaN    NaN   \n",
       "Jaws: The Revenge                           31.0                  NaN    NaN   \n",
       "The Dentist                                  NaN                  NaN    NaN   \n",
       "Stalked by My Doctor: The Return             NaN                  NaN    NaN   \n",
       "Deadly Friend                                NaN                  NaN    NaN   \n",
       "\n",
       "                                 episode episode of series year  \\\n",
       "title                                                             \n",
       "The Gingerdead Man                   NaN        NaN         NaN   \n",
       "Sharknado                            NaN        NaN         NaN   \n",
       "Tango & Cash                         NaN        NaN         NaN   \n",
       "Zombeavers                           NaN        NaN         NaN   \n",
       "Hell Comes to Frogtown               NaN        NaN         NaN   \n",
       "Cool as Ice                          NaN        NaN         NaN   \n",
       "The Toxic Avenger                    NaN        NaN         NaN   \n",
       "The Toxic Avenger                    NaN        NaN         NaN   \n",
       "Society                              NaN        NaN         NaN   \n",
       "Drew Peterson: Untouchable           NaN        NaN         NaN   \n",
       "Celtic Pride                         NaN        NaN         NaN   \n",
       "Stalked by My Doctor                 NaN        NaN         NaN   \n",
       "The Canyons                          NaN        NaN         NaN   \n",
       "Jaws: The Revenge                    NaN        NaN         NaN   \n",
       "The Dentist                          NaN        NaN         NaN   \n",
       "Stalked by My Doctor: The Return     NaN        NaN         NaN   \n",
       "Deadly Friend                        NaN        NaN         NaN   \n",
       "\n",
       "                                  number of episodes  previous episode  \\\n",
       "title                                                                    \n",
       "The Gingerdead Man                               NaN               NaN   \n",
       "Sharknado                                        NaN               NaN   \n",
       "Tango & Cash                                     NaN               NaN   \n",
       "Zombeavers                                       NaN               NaN   \n",
       "Hell Comes to Frogtown                           NaN               NaN   \n",
       "Cool as Ice                                      NaN               NaN   \n",
       "The Toxic Avenger                                NaN               NaN   \n",
       "The Toxic Avenger                                NaN               NaN   \n",
       "Society                                          NaN               NaN   \n",
       "Drew Peterson: Untouchable                       NaN               NaN   \n",
       "Celtic Pride                                     NaN               NaN   \n",
       "Stalked by My Doctor                             NaN               NaN   \n",
       "The Canyons                                      NaN               NaN   \n",
       "Jaws: The Revenge                                NaN               NaN   \n",
       "The Dentist                                      NaN               NaN   \n",
       "Stalked by My Doctor: The Return                 NaN               NaN   \n",
       "Deadly Friend                                    NaN               NaN   \n",
       "\n",
       "                                 next episode imdbIndex  \n",
       "title                                                    \n",
       "The Gingerdead Man                        NaN       NaN  \n",
       "Sharknado                                 NaN       NaN  \n",
       "Tango & Cash                              NaN       NaN  \n",
       "Zombeavers                                NaN       NaN  \n",
       "Hell Comes to Frogtown                    NaN       NaN  \n",
       "Cool as Ice                               NaN       NaN  \n",
       "The Toxic Avenger                         NaN       NaN  \n",
       "The Toxic Avenger                         NaN       NaN  \n",
       "Society                                   NaN       NaN  \n",
       "Drew Peterson: Untouchable                NaN       NaN  \n",
       "Celtic Pride                              NaN       NaN  \n",
       "Stalked by My Doctor                      NaN       NaN  \n",
       "The Canyons                               NaN       NaN  \n",
       "Jaws: The Revenge                         NaN       NaN  \n",
       "The Dentist                               NaN       NaN  \n",
       "Stalked by My Doctor: The Return          NaN       NaN  \n",
       "Deadly Friend                             NaN       NaN  \n",
       "\n",
       "[17 rows x 78 columns]"
      ]
     },
     "execution_count": 32,
     "metadata": {},
     "output_type": "execute_result"
    }
   ],
   "source": [
    "df[df['script department'].isin(top_10)]"
   ]
  },
  {
   "cell_type": "code",
   "execution_count": 62,
   "metadata": {},
   "outputs": [
    {
     "data": {
      "image/png": "[encoded data removed]",
      "text/plain": [
       "<Figure size 1440x720 with 1 Axes>"
      ]
     },
     "metadata": {
      "needs_background": "light"
     },
     "output_type": "display_data"
    }
   ],
   "source": [
    "plot_bar(df, 'production companies', limit=20);"
   ]
  },
  {
   "cell_type": "markdown",
   "metadata": {},
   "source": [
    "# Natural Language Processing "
   ]
  },
  {
   "cell_type": "markdown",
   "metadata": {},
   "source": [
    "## Pre-processing\n",
    "### Tokenization"
   ]
  },
  {
   "cell_type": "markdown",
   "metadata": {},
   "source": [
    "**Tokenization** is the process of breaking down sentences into smaller *'tokens'*. In our case we are splitting the text based on words. Similar to using `\\w+` in regular expression syntax. Note we also make the words lowecase."
   ]
  },
  {
   "cell_type": "markdown",
   "metadata": {},
   "source": [
    "#### Example"
   ]
  },
  {
   "cell_type": "code",
   "execution_count": 36,
   "metadata": {},
   "outputs": [
    {
     "name": "stdout",
     "output_type": "stream",
     "text": [
      "['when', 'earth', 'passes', 'through', 'the', 'tail', 'of', 'rea-m', 'rogue', 'comet', ',', 'the', 'machines', 'come', 'to', 'life', 'and', 'start', 'to', 'kill', 'mankind', '.', 'a', 'group', 'of', 'survivors', 'is', 'under', 'siege', 'from', 'fierce', 'trucks', 'at', 'the', 'dixie', 'boy', 'truck', 'stop', 'gas', 'station', 'and', 'they', 'have', 'to', 'fight', 'to', 'survive', '.', ':', ':claudio', 'carvalho', ',', 'rio', 'de', 'janeiro', ',', 'brazil']\n"
     ]
    }
   ],
   "source": [
    "text = df['plot'][0][1]\n",
    "\n",
    "tokens = word_tokenize(text.lower())\n",
    "print(tokens)"
   ]
  },
  {
   "cell_type": "markdown",
   "metadata": {},
   "source": [
    "To create a bag of words the `Counter` class from the collections module is useful in creating a dictionary with the keys as our words and the values as the frequency of each word."
   ]
  },
  {
   "cell_type": "code",
   "execution_count": 37,
   "metadata": {},
   "outputs": [
    {
     "data": {
      "text/plain": [
       "Counter({'when': 1,\n",
       "         'earth': 1,\n",
       "         'passes': 1,\n",
       "         'through': 1,\n",
       "         'the': 3,\n",
       "         'tail': 1,\n",
       "         'of': 2,\n",
       "         'rea-m': 1,\n",
       "         'rogue': 1,\n",
       "         'comet': 1,\n",
       "         ',': 3,\n",
       "         'machines': 1,\n",
       "         'come': 1,\n",
       "         'to': 4,\n",
       "         'life': 1,\n",
       "         'and': 2,\n",
       "         'start': 1,\n",
       "         'kill': 1,\n",
       "         'mankind': 1,\n",
       "         '.': 2,\n",
       "         'a': 1,\n",
       "         'group': 1,\n",
       "         'survivors': 1,\n",
       "         'is': 1,\n",
       "         'under': 1,\n",
       "         'siege': 1,\n",
       "         'from': 1,\n",
       "         'fierce': 1,\n",
       "         'trucks': 1,\n",
       "         'at': 1,\n",
       "         'dixie': 1,\n",
       "         'boy': 1,\n",
       "         'truck': 1,\n",
       "         'stop': 1,\n",
       "         'gas': 1,\n",
       "         'station': 1,\n",
       "         'they': 1,\n",
       "         'have': 1,\n",
       "         'fight': 1,\n",
       "         'survive': 1,\n",
       "         ':': 1,\n",
       "         ':claudio': 1,\n",
       "         'carvalho': 1,\n",
       "         'rio': 1,\n",
       "         'de': 1,\n",
       "         'janeiro': 1,\n",
       "         'brazil': 1})"
      ]
     },
     "execution_count": 37,
     "metadata": {},
     "output_type": "execute_result"
    }
   ],
   "source": [
    "bag_of_words = Counter(tokens)\n",
    "bag_of_words"
   ]
  },
  {
   "cell_type": "markdown",
   "metadata": {},
   "source": [
    "#### Creating a bag of words for ALL the plots"
   ]
  },
  {
   "cell_type": "code",
   "execution_count": 36,
   "metadata": {},
   "outputs": [],
   "source": [
    "# create list of all plots\n",
    "\n",
    "plots = list(df_bad['plot'].explode())\n",
    "\n",
    "# remove nans\n",
    "for x in plots:\n",
    "    if isinstance(x, float):\n",
    "        plots.remove(x)"
   ]
  },
  {
   "cell_type": "code",
   "execution_count": 37,
   "metadata": {},
   "outputs": [],
   "source": [
    "# Create giant string of all plots stitched together.\n",
    "\n",
    "all_plots = \"\"\n",
    "\n",
    "for plot in plots:\n",
    "    all_plots += plot"
   ]
  },
  {
   "cell_type": "code",
   "execution_count": 38,
   "metadata": {},
   "outputs": [],
   "source": [
    "masterTokens = word_tokenize(all_plots.lower())"
   ]
  },
  {
   "cell_type": "code",
   "execution_count": 39,
   "metadata": {},
   "outputs": [],
   "source": [
    "# remove stop words and punctuation\n",
    "\n",
    "allPlotsClean = [word for word in masterTokens if word not in set(stopwords.words('english'))]\n",
    "allPlotsClean = [word for word in allPlotsClean if word.isalpha()]"
   ]
  },
  {
   "cell_type": "code",
   "execution_count": 40,
   "metadata": {},
   "outputs": [],
   "source": [
    "totalWordCount = Counter(allPlotsClean)"
   ]
  },
  {
   "cell_type": "code",
   "execution_count": 41,
   "metadata": {},
   "outputs": [
    {
     "data": {
      "text/html": [
       "<div>\n",
       "<style scoped>\n",
       "    .dataframe tbody tr th:only-of-type {\n",
       "        vertical-align: middle;\n",
       "    }\n",
       "\n",
       "    .dataframe tbody tr th {\n",
       "        vertical-align: top;\n",
       "    }\n",
       "\n",
       "    .dataframe thead th {\n",
       "        text-align: right;\n",
       "    }\n",
       "</style>\n",
       "<table border=\"1\" class=\"dataframe\">\n",
       "  <thead>\n",
       "    <tr style=\"text-align: right;\">\n",
       "      <th></th>\n",
       "      <th>frequency</th>\n",
       "    </tr>\n",
       "    <tr>\n",
       "      <th>word</th>\n",
       "      <th></th>\n",
       "    </tr>\n",
       "  </thead>\n",
       "  <tbody>\n",
       "    <tr>\n",
       "      <th>one</th>\n",
       "      <td>97</td>\n",
       "    </tr>\n",
       "    <tr>\n",
       "      <th>qv</th>\n",
       "      <td>74</td>\n",
       "    </tr>\n",
       "    <tr>\n",
       "      <th>life</th>\n",
       "      <td>70</td>\n",
       "    </tr>\n",
       "    <tr>\n",
       "      <th>man</th>\n",
       "      <td>62</td>\n",
       "    </tr>\n",
       "    <tr>\n",
       "      <th>new</th>\n",
       "      <td>53</td>\n",
       "    </tr>\n",
       "    <tr>\n",
       "      <th>...</th>\n",
       "      <td>...</td>\n",
       "    </tr>\n",
       "    <tr>\n",
       "      <th>lunatic</th>\n",
       "      <td>1</td>\n",
       "    </tr>\n",
       "    <tr>\n",
       "      <th>infiltrates</th>\n",
       "      <td>1</td>\n",
       "    </tr>\n",
       "    <tr>\n",
       "      <th>crooks</th>\n",
       "      <td>1</td>\n",
       "    </tr>\n",
       "    <tr>\n",
       "      <th>retaliating</th>\n",
       "      <td>1</td>\n",
       "    </tr>\n",
       "    <tr>\n",
       "      <th>nocturnal</th>\n",
       "      <td>1</td>\n",
       "    </tr>\n",
       "  </tbody>\n",
       "</table>\n",
       "<p>5133 rows × 1 columns</p>\n",
       "</div>"
      ],
      "text/plain": [
       "             frequency\n",
       "word                  \n",
       "one                 97\n",
       "qv                  74\n",
       "life                70\n",
       "man                 62\n",
       "new                 53\n",
       "...                ...\n",
       "lunatic              1\n",
       "infiltrates          1\n",
       "crooks               1\n",
       "retaliating          1\n",
       "nocturnal            1\n",
       "\n",
       "[5133 rows x 1 columns]"
      ]
     },
     "execution_count": 41,
     "metadata": {},
     "output_type": "execute_result"
    }
   ],
   "source": [
    "# Create dataframe of word distribution\n",
    "\n",
    "word_dist = pd.DataFrame.from_dict(totalWordCount, orient='index').reset_index()\n",
    "word_dist.columns = ['word', 'frequency']\n",
    "word_dist = word_dist.sort_values(by='frequency', ascending=False)\n",
    "word_dist.set_index('word')"
   ]
  },
  {
   "cell_type": "code",
   "execution_count": 57,
   "metadata": {},
   "outputs": [
    {
     "data": {
      "image/png": "[encoded data removed]",
      "text/plain": [
       "<Figure size 1440x720 with 1 Axes>"
      ]
     },
     "metadata": {
      "needs_background": "light"
     },
     "output_type": "display_data"
    }
   ],
   "source": [
    "# word distribution\n",
    "\n",
    "top20Words = word_dist.head(20)\n",
    "\n",
    "plt.figure(figsize=(20,10))\n",
    "\n",
    "ax = sns.barplot(data=top20Words, x='frequency', y='word')"
   ]
  },
  {
   "cell_type": "markdown",
   "metadata": {},
   "source": [
    "N-grams are n grouped together words. `nltk` has a handy library for returning n-grams. These representations of the text can be useful in extracting meaning from groups of words rather than analysing them in isolation."
   ]
  },
  {
   "cell_type": "code",
   "execution_count": 38,
   "metadata": {},
   "outputs": [
    {
     "name": "stdout",
     "output_type": "stream",
     "text": [
      "('when', 'earth')\n",
      "('earth', 'passes')\n",
      "('passes', 'through')\n",
      "('through', 'the')\n",
      "('the', 'tail')\n",
      "('tail', 'of')\n",
      "('of', 'rea-m')\n",
      "('rea-m', 'rogue')\n",
      "('rogue', 'comet')\n",
      "('comet', ',')\n",
      "(',', 'the')\n",
      "('the', 'machines')\n",
      "('machines', 'come')\n",
      "('come', 'to')\n",
      "('to', 'life')\n",
      "('life', 'and')\n",
      "('and', 'start')\n",
      "('start', 'to')\n",
      "('to', 'kill')\n",
      "('kill', 'mankind')\n",
      "('mankind', '.')\n",
      "('.', 'a')\n",
      "('a', 'group')\n",
      "('group', 'of')\n",
      "('of', 'survivors')\n",
      "('survivors', 'is')\n",
      "('is', 'under')\n",
      "('under', 'siege')\n",
      "('siege', 'from')\n",
      "('from', 'fierce')\n",
      "('fierce', 'trucks')\n",
      "('trucks', 'at')\n",
      "('at', 'the')\n",
      "('the', 'dixie')\n",
      "('dixie', 'boy')\n",
      "('boy', 'truck')\n",
      "('truck', 'stop')\n",
      "('stop', 'gas')\n",
      "('gas', 'station')\n",
      "('station', 'and')\n",
      "('and', 'they')\n",
      "('they', 'have')\n",
      "('have', 'to')\n",
      "('to', 'fight')\n",
      "('fight', 'to')\n",
      "('to', 'survive')\n",
      "('survive', '.')\n",
      "('.', ':')\n",
      "(':', ':claudio')\n",
      "(':claudio', 'carvalho')\n",
      "('carvalho', ',')\n",
      "(',', 'rio')\n",
      "('rio', 'de')\n",
      "('de', 'janeiro')\n",
      "('janeiro', ',')\n",
      "(',', 'brazil')\n"
     ]
    }
   ],
   "source": [
    "for ngrams in nltk.ngrams(tokens, 2):\n",
    "    print(ngrams)"
   ]
  },
  {
   "cell_type": "markdown",
   "metadata": {},
   "source": [
    "Stop words are common words in any language that occur with a high frequency by carry much less substansive information about the meaning of a sentence."
   ]
  },
  {
   "cell_type": "markdown",
   "metadata": {},
   "source": [
    "## Sentiment Analysis"
   ]
  },
  {
   "cell_type": "markdown",
   "metadata": {},
   "source": [
    "We can use a rules based system to evaluate the sentiment of our plots. `VADER` (Valence Aware Dictionary for Sentiment Reasoning) by Hutto and Gilber at GA Tech. This contains a lexicon which contains scores for various tokens. "
   ]
  },
  {
   "cell_type": "code",
   "execution_count": 39,
   "metadata": {},
   "outputs": [],
   "source": [
    "sa = SentimentIntensityAnalyzer()"
   ]
  },
  {
   "cell_type": "code",
   "execution_count": 54,
   "metadata": {},
   "outputs": [
    {
     "name": "stdout",
     "output_type": "stream",
     "text": [
      "Maximum Overdrive Plot Sentiments........\n",
      "\n",
      "-0.8591: A group of people try to survive when machines start to come alive and become homicidal.::Kenneth Chisholm\n",
      "\n",
      "-0.8591: When Earth passes through the tail of Rea-M rogue comet, the machines come to life and start to kill mankind. A group of survivors is under siege from fierce trucks at the Dixie Boy truck stop gas station and they have to fight to survive.::Claudio Carvalho, Rio de Janeiro, Brazil\n",
      "\n",
      "-0.8591: For 8 days in 1986, the earth passed through the tail of a mysterious Rhea-M rogue comet. During that time, machines on earth suddenly come to life and terrorize their human creators. A small group of people in a truck stop, surrounded by \"alive\" semi-trailers, set out to stop the machines before the machines stop them.::Matt McQuillan <mjment@hotmail.com>\n",
      "\n",
      "-0.8591: When a mysterious comet passes close within the Earth, machines all over the World come alive and go on homicidal rampages. A group of people in a desolate Truck Stop are held hostage by a gang of homicidal 18-wheelers. The frightened people set out to defeat the killer machines...or be killed by them.::Mitchell Huffman\n",
      "\n",
      "-0.8591: In a truck-stop diner, a waitress has her hand cut by an electric knife that seems to have a mind of its own. From that point on, every manner of machine seems to come alive, with an evil and violent personality.::Murray Chapman <muzzle@cs.uq.oz.au>\n",
      "\n",
      "-0.8591: When the tail of rogue comet Rhea-M passes through Earth's atmosphere, humanity's worst nightmares come to life as machines gradually develop minds of their own, turning on their creators in bloody rebellion. At the Dixie Boy truck stop just outside Wilmington, North Carolina, both workers and patrons alike are coming to grips with the horror as a series of increasingly bizarre accidents occur, some injurious, some near-fatal, and some fatal. The terror finally comes to a head when the parked trucks - led by one for a toy company which sports a demonically-smiling goblin face - each start up on their own, circling the truck stop and preventing anyone from getting in or out. Trapped by the trucks and an emotionless manager ('Pat Hingle' (qv)), a young ex-con ('Emilio Estevez' (qv)) takes it upon himself to lead the rescue of anyone in the immediate vicinity who's life is in danger, and to ultimately escape the truck stop and head to safety. Unfortunately, things become more complicated when a machine-gun-mounted mobile platform orders each of the humans to pump gasoline for the trucks. Pitted against an army of machines demonized by an unknown phenomenon, the people trapped in the Dixie Boy truck stop must use stealth and a concealed arsenal to escape. In the meantime, they realize that there is more to the tail of Rhea-M than they initially thought.::Curly Q. Link\n"
     ]
    }
   ],
   "source": [
    "corpus_max_overdrive = df['plot'][0]\n",
    "\n",
    "print('Maximum Overdrive Plot Sentiments........')\n",
    "\n",
    "for plots in corpus_max_overdrive:\n",
    "    \n",
    "    scores = sa.polarity_scores(text)\n",
    "    print()\n",
    "    print('{:+}: {}'.format(scores['compound'], plots))"
   ]
  },
  {
   "cell_type": "markdown",
   "metadata": {},
   "source": [
    "---\n",
    "Wow seems like Maximum Overdrive has a strong negative sentiment. I have seen the movie so I know this is true, but lets analyse the genre to see if this evaluation matches."
   ]
  },
  {
   "cell_type": "code",
   "execution_count": 61,
   "metadata": {},
   "outputs": [
    {
     "data": {
      "text/plain": [
       "['Action', 'Comedy', 'Horror', 'Sci-Fi']"
      ]
     },
     "execution_count": 61,
     "metadata": {},
     "output_type": "execute_result"
    }
   ],
   "source": [
    "genre = df.iloc[0]['genres']"
   ]
  },
  {
   "cell_type": "markdown",
   "metadata": {},
   "source": [
    "Seemingly, according to `VADER` the most appropriate genre would be all but the `Comedy` label. Unless this was put in ironically of course. \n",
    "Lets check out movie I know is meant to be a comedy and check the sentiment of that to see how VADER fares."
   ]
  },
  {
   "cell_type": "code",
   "execution_count": 139,
   "metadata": {},
   "outputs": [
    {
     "name": "stdout",
     "output_type": "stream",
     "text": [
      "\n",
      "+0.5574: A struggling young comedian takes a menial job on a cruise ship hoping for his big chance to make it in the world of cruise-ship comedy.::Anonymous\n",
      "\n",
      "+0.7269: Shecky Moskowitz, a deservedly struggling young comedian, lands a menial job on the cruise ship that's holding the Miss Universe pageant. The Big Man On Deck for this voyage is Dickie Diamond, the ship's comedian and all-around ladies' man. As an assorted array of thugs, Panamanian mercenaries, and terrorists try to storm the ship, Shecky hopes for one big chance to prove himself and enter the exciting world of cruise-ship comedy.::Jean-Marc Rocher <rocher@fiberbit.net>\n"
     ]
    }
   ],
   "source": [
    "comedy = df['plot'].loc[df.index == \"Going Overboard\"][0]\n",
    "\n",
    "for plots in comedy:\n",
    "    scores = sa.polarity_scores(text)\n",
    "    print()\n",
    "    print('{:+}: {}'.format(scores['compound'], plots))"
   ]
  },
  {
   "cell_type": "markdown",
   "metadata": {},
   "source": [
    "---\n",
    "Ah here it seems that the plot has a greater positive sentiment once we picked out a movie with `Comedy` in its genre."
   ]
  },
  {
   "cell_type": "markdown",
   "metadata": {},
   "source": [
    "# Classifying Bad Movies"
   ]
  },
  {
   "cell_type": "markdown",
   "metadata": {},
   "source": [
    "We have explored the bad movies in our corpus. "
   ]
  },
  {
   "cell_type": "code",
   "execution_count": null,
   "metadata": {},
   "outputs": [],
   "source": []
  }
 ],
 "metadata": {
  "kernelspec": {
   "display_name": "trash-movie-classifier",
   "language": "python",
   "name": "trash-movie-classifier"
  },
  "language_info": {
   "codemirror_mode": {
    "name": "ipython",
    "version": 3
   },
   "file_extension": ".py",
   "mimetype": "text/x-python",
   "name": "python",
   "nbconvert_exporter": "python",
   "pygments_lexer": "ipython3",
   "version": "3.8.5"
  }
 },
 "nbformat": 4,
 "nbformat_minor": 4
}
